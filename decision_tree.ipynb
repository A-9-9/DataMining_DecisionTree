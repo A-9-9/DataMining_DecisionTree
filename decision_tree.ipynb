{
 "cells": [
  {
   "cell_type": "code",
   "execution_count": 1,
   "id": "ecbbc010",
   "metadata": {
    "scrolled": true
   },
   "outputs": [
    {
     "name": "stderr",
     "output_type": "stream",
     "text": [
      "\n",
      "[notice] A new release of pip is available: 23.1.2 -> 23.3\n",
      "[notice] To update, run: python.exe -m pip install --upgrade pip\n"
     ]
    },
    {
     "name": "stdout",
     "output_type": "stream",
     "text": [
      "Defaulting to user installation because normal site-packages is not writeable\n",
      "Requirement already satisfied: pandas in c:\\users\\ken\\appdata\\roaming\\python\\python311\\site-packages (2.1.1)\n",
      "Requirement already satisfied: numpy>=1.23.2 in c:\\users\\ken\\appdata\\roaming\\python\\python311\\site-packages (from pandas) (1.26.0)\n",
      "Requirement already satisfied: python-dateutil>=2.8.2 in c:\\users\\ken\\appdata\\roaming\\python\\python311\\site-packages (from pandas) (2.8.2)\n",
      "Requirement already satisfied: pytz>=2020.1 in c:\\users\\ken\\appdata\\roaming\\python\\python311\\site-packages (from pandas) (2023.3.post1)\n",
      "Requirement already satisfied: tzdata>=2022.1 in c:\\users\\ken\\appdata\\roaming\\python\\python311\\site-packages (from pandas) (2023.3)\n",
      "Requirement already satisfied: six>=1.5 in c:\\users\\ken\\appdata\\roaming\\python\\python311\\site-packages (from python-dateutil>=2.8.2->pandas) (1.16.0)\n",
      "Defaulting to user installation because normal site-packages is not writeable\n",
      "Requirement already satisfied: chefboost in c:\\users\\ken\\appdata\\roaming\\python\\python311\\site-packages (0.0.17)\n",
      "Requirement already satisfied: pandas>=0.22.0 in c:\\users\\ken\\appdata\\roaming\\python\\python311\\site-packages (from chefboost) (2.1.1)\n",
      "Requirement already satisfied: numpy>=1.14.0 in c:\\users\\ken\\appdata\\roaming\\python\\python311\\site-packages (from chefboost) (1.26.0)\n",
      "Requirement already satisfied: tqdm>=4.30.0 in c:\\users\\ken\\appdata\\roaming\\python\\python311\\site-packages (from chefboost) (4.66.1)\n",
      "Requirement already satisfied: psutil>=5.4.3 in c:\\users\\ken\\appdata\\roaming\\python\\python311\\site-packages (from chefboost) (5.9.5)\n",
      "Requirement already satisfied: python-dateutil>=2.8.2 in c:\\users\\ken\\appdata\\roaming\\python\\python311\\site-packages (from pandas>=0.22.0->chefboost) (2.8.2)\n",
      "Requirement already satisfied: pytz>=2020.1 in c:\\users\\ken\\appdata\\roaming\\python\\python311\\site-packages (from pandas>=0.22.0->chefboost) (2023.3.post1)\n",
      "Requirement already satisfied: tzdata>=2022.1 in c:\\users\\ken\\appdata\\roaming\\python\\python311\\site-packages (from pandas>=0.22.0->chefboost) (2023.3)\n",
      "Requirement already satisfied: colorama in c:\\users\\ken\\appdata\\roaming\\python\\python311\\site-packages (from tqdm>=4.30.0->chefboost) (0.4.6)\n",
      "Requirement already satisfied: six>=1.5 in c:\\users\\ken\\appdata\\roaming\\python\\python311\\site-packages (from python-dateutil>=2.8.2->pandas>=0.22.0->chefboost) (1.16.0)\n"
     ]
    },
    {
     "name": "stderr",
     "output_type": "stream",
     "text": [
      "\n",
      "[notice] A new release of pip is available: 23.1.2 -> 23.3\n",
      "[notice] To update, run: python.exe -m pip install --upgrade pip\n"
     ]
    }
   ],
   "source": [
    "!pip install pandas\n",
    "!pip install chefboost"
   ]
  },
  {
   "cell_type": "code",
   "execution_count": 30,
   "id": "69dbfdab",
   "metadata": {
    "scrolled": true
   },
   "outputs": [],
   "source": [
    "import pandas as pd\n",
    "from sklearn.preprocessing import LabelEncoder, OneHotEncoder\n",
    "from sklearn.model_selection import train_test_split\n",
    "from sklearn import tree\n",
    "from sklearn.model_selection import cross_val_score\n",
    "import matplotlib.pyplot as plt"
   ]
  },
  {
   "cell_type": "code",
   "execution_count": 3,
   "id": "7502d119",
   "metadata": {},
   "outputs": [
    {
     "data": {
      "text/plain": [
       "'\\n# Data preprocessing\\n'"
      ]
     },
     "execution_count": 3,
     "metadata": {},
     "output_type": "execute_result"
    }
   ],
   "source": [
    "\"\"\"\n",
    "# Data preprocessing\n",
    "\"\"\""
   ]
  },
  {
   "cell_type": "code",
   "execution_count": 4,
   "id": "89d4b190",
   "metadata": {},
   "outputs": [],
   "source": [
    "# Read data\n",
    "li = []\n",
    "with open('adult.data') as f:\n",
    "    lines = f.readlines()\n",
    "    for line in lines:\n",
    "        li.append(line[:-1].split(\", \"))\n",
    "\n",
    "df = pd.DataFrame(li)"
   ]
  },
  {
   "cell_type": "code",
   "execution_count": 5,
   "id": "659bce01",
   "metadata": {
    "scrolled": true
   },
   "outputs": [],
   "source": [
    "# rename columns and drop rows with nan values \n",
    "df = df.rename(columns={0: \"age\", 1: \"workclass\", 2: \"fnlwgt\", 3: \"education\", 4: \"education-num\", 5: \"marital-status\", 6: \"occupation\", 7: \"relationship\", 8: \"race\", 9: \"sex\", 10: \"capital-gain\", 11: \"capital-loss\", 12: \"hours-per-week\", 13: \"native-country\", 14: \"income\"})\n",
    "df = df.dropna()"
   ]
  },
  {
   "cell_type": "code",
   "execution_count": 6,
   "id": "148da07e",
   "metadata": {
    "scrolled": true
   },
   "outputs": [],
   "source": [
    "# drop missing values\n",
    "label_workclass = ['Private', 'Self-emp-not-inc', 'Self-emp-inc', 'Federal-gov', 'Local-gov', 'State-gov', 'Without-pay', 'Never-worked']\n",
    "label_occupation = ['Tech-support', 'Craft-repair', 'Other-service', 'Sales', 'Exec-managerial', 'Prof-specialty', 'Handlers-cleaners', 'Machine-op-inspct', 'Adm-clerical', 'Farming-fishing', 'Transport-moving', 'Priv-house-serv', 'Protective-serv', 'Armed-Forces']\n",
    "label_native_country = ['United-States', 'Cambodia', 'England', 'Puerto-Rico', 'Canada', 'Germany', 'Outlying-US(Guam-USVI-etc)', 'India', 'Japan', 'Greece', 'South', 'China', 'Cuba', 'Iran', 'Honduras', 'Philippines', 'Italy', 'Poland', 'Jamaica', 'Vietnam', 'Mexico', 'Portugal', 'Ireland', 'France', 'Dominican-Republic', 'Laos', 'Ecuador', 'Taiwan', 'Haiti', 'Columbia', 'Hungary', 'Guatemala', 'Nicaragua', 'Scotland', 'Thailand', 'Yugoslavia', 'El-Salvador', 'Trinadad&Tobago', 'Peru', 'Hong', 'Holand-Netherlands']\n",
    "unknown_index = []\n",
    "\n",
    "for i in range(len(df['workclass'])):\n",
    "    if df['workclass'][i] not in label_workclass:\n",
    "        unknown_index.append(i)\n",
    "\n",
    "for i in range(len(df['occupation'])):\n",
    "    if df['occupation'][i] not in label_occupation:\n",
    "        unknown_index.append(i)\n",
    "\n",
    "for i in range(len(df['native-country'])):\n",
    "    if df['native-country'][i] not in label_native_country:\n",
    "        unknown_index.append(i)        \n",
    "\n",
    "df = df.drop(set(unknown_index))"
   ]
  },
  {
   "cell_type": "code",
   "execution_count": 7,
   "id": "79d2a2a5",
   "metadata": {},
   "outputs": [],
   "source": [
    "# drop meaningless column\n",
    "df = df.drop(columns=['fnlwgt', 'capital-gain', 'capital-loss', 'native-country'])"
   ]
  },
  {
   "cell_type": "code",
   "execution_count": 8,
   "id": "94a160fa",
   "metadata": {},
   "outputs": [],
   "source": [
    "# one-hot encoding on nominal value columns\n",
    "df = pd.get_dummies(df, dtype=int, columns=['workclass', 'education', 'marital-status', 'occupation', 'relationship', 'race', 'sex'])"
   ]
  },
  {
   "cell_type": "code",
   "execution_count": 9,
   "id": "bd24e227",
   "metadata": {},
   "outputs": [],
   "source": [
    "# Binarization of income column\n",
    "df = df.replace({'<=50K': 0, \">50K\": 1})"
   ]
  },
  {
   "cell_type": "code",
   "execution_count": 10,
   "id": "3e4c945c",
   "metadata": {},
   "outputs": [],
   "source": [
    "# split data into training and test data\n",
    "x = df[::].drop(columns=['income'])\n",
    "y = df[:]['income']\n",
    "train_x, test_x, train_y, test_y = train_test_split(x, y, test_size=0.2)"
   ]
  },
  {
   "cell_type": "code",
   "execution_count": 11,
   "id": "ebc1742a",
   "metadata": {},
   "outputs": [
    {
     "data": {
      "text/plain": [
       "'\\n# Decision tree base on CART\\n'"
      ]
     },
     "execution_count": 11,
     "metadata": {},
     "output_type": "execute_result"
    }
   ],
   "source": [
    "\"\"\"\n",
    "# Decision tree base on CART\n",
    "\"\"\""
   ]
  },
  {
   "cell_type": "code",
   "execution_count": 12,
   "id": "1b3545d3",
   "metadata": {},
   "outputs": [],
   "source": [
    "# training DTs using training data\n",
    "dt = tree.DecisionTreeClassifier()\n",
    "dt = dt.fit(train_x, train_y)"
   ]
  },
  {
   "cell_type": "code",
   "execution_count": 13,
   "id": "20071b99",
   "metadata": {},
   "outputs": [],
   "source": [
    "from sklearn import metrics\n",
    "from sklearn.model_selection import cross_val_score"
   ]
  },
  {
   "cell_type": "code",
   "execution_count": 14,
   "id": "dc7cf0e5",
   "metadata": {},
   "outputs": [
    {
     "name": "stdout",
     "output_type": "stream",
     "text": [
      "==========CART==========\n",
      "----------Training Accuracy----------\n",
      "0.9665\n",
      "----------Test Accuracy----------\n",
      " 0.772749876\n",
      "----------10-fold Cross Validatoin Accuracy----------\n",
      "0.7809\n",
      "----------Confusion Matrix----------\n",
      "[[3902  642]\n",
      " [ 729  760]]\n",
      "----------Classification Report----------\n",
      "              precision    recall  f1-score   support\n",
      "\n",
      "           0       0.84      0.86      0.85      4544\n",
      "           1       0.54      0.51      0.53      1489\n",
      "\n",
      "    accuracy                           0.77      6033\n",
      "   macro avg       0.69      0.68      0.69      6033\n",
      "weighted avg       0.77      0.77      0.77      6033\n",
      "\n",
      "----------Accuracy Score----------\n",
      "0.7727498756837394\n",
      "----------Precision Score----------\n",
      "0.5420827389443652\n",
      "----------Recall Score----------\n",
      "0.5104096709200806\n"
     ]
    }
   ],
   "source": [
    "predict_y = dt.predict(test_x)\n",
    "scores = cross_val_score(dt, x, y, cv=10)\n",
    "print('='*10 + \"CART\" + '='*10)\n",
    "print('-'*10 + \"Training Accuracy\" + '-'*10)\n",
    "print('%0.4f' % dt.score(train_x, train_y))\n",
    "print('-'*10 + \"Test Accuracy\" + '-'*10)\n",
    "print(' %0.9f' % dt.score(test_x, test_y))\n",
    "print('-'*10 + \"10-fold Cross Validatoin Accuracy\" + '-'*10)\n",
    "print('%0.4f' % (scores.mean()))\n",
    "print('-'*10 + \"Confusion Matrix\" + '-'*10)\n",
    "print(metrics.confusion_matrix(test_y, predict_y))\n",
    "print('-'*10 + \"Classification Report\" + '-'*10)\n",
    "print(metrics.classification_report(test_y, predict_y))\n",
    "print('-'*10 + \"Accuracy Score\" + '-'*10)\n",
    "print(metrics.accuracy_score(test_y, predict_y))\n",
    "print('-'*10 + \"Precision Score\" + '-'*10)\n",
    "print(metrics.precision_score(test_y, predict_y))\n",
    "print('-'*10 + \"Recall Score\" + '-'*10)\n",
    "print(metrics.recall_score(test_y, predict_y))"
   ]
  },
  {
   "cell_type": "code",
   "execution_count": 15,
   "id": "f914e4a9",
   "metadata": {},
   "outputs": [],
   "source": [
    "# accuarcy score\n",
    "# from sklearn import metrics\n",
    "# predict_y = dt.predict(test_x)\n",
    "# metrics.accuracy_score(test_y, predict_y)"
   ]
  },
  {
   "cell_type": "code",
   "execution_count": 16,
   "id": "1d67548a",
   "metadata": {},
   "outputs": [
    {
     "name": "stdout",
     "output_type": "stream",
     "text": [
      "Cross Validatoin Accuracy: 0.7799\n"
     ]
    }
   ],
   "source": [
    "from sklearn.model_selection import cross_val_score\n",
    "scores = cross_val_score(dt, x, y, cv=10)\n",
    "print('Cross Validatoin Accuracy: %0.4f' % (scores.mean()))"
   ]
  },
  {
   "cell_type": "code",
   "execution_count": 17,
   "id": "152cce30",
   "metadata": {},
   "outputs": [
    {
     "data": {
      "text/plain": [
       "'\\n# Decision tree base on C5\\n'"
      ]
     },
     "execution_count": 17,
     "metadata": {},
     "output_type": "execute_result"
    }
   ],
   "source": [
    "\"\"\"\n",
    "# Decision tree base on C5\n",
    "\"\"\""
   ]
  },
  {
   "cell_type": "code",
   "execution_count": 18,
   "id": "e815b3b5",
   "metadata": {},
   "outputs": [],
   "source": [
    "# C5\n",
    "dt_c5 = tree.DecisionTreeClassifier(criterion='entropy')\n",
    "dt_c5 = dt_c5.fit(train_x, train_y)"
   ]
  },
  {
   "cell_type": "code",
   "execution_count": 50,
   "id": "a5f0bff1",
   "metadata": {
    "scrolled": true
   },
   "outputs": [
    {
     "name": "stdout",
     "output_type": "stream",
     "text": [
      "==========C5==========\n",
      "----------Training Accuracy----------\n",
      "0.9665\n",
      "----------Test Accuracy----------\n",
      " 0.776230731\n",
      "----------10-fold Cross Validatoin Accuracy----------\n",
      "0.7805\n",
      "----------Confusion Matrix----------\n",
      "[[3925  619]\n",
      " [ 731  758]]\n",
      "----------Classification Report----------\n",
      "              precision    recall  f1-score   support\n",
      "\n",
      "           0       0.84      0.86      0.85      4544\n",
      "           1       0.55      0.51      0.53      1489\n",
      "\n",
      "    accuracy                           0.78      6033\n",
      "   macro avg       0.70      0.69      0.69      6033\n",
      "weighted avg       0.77      0.78      0.77      6033\n",
      "\n",
      "----------Accuracy Score----------\n",
      "0.7762307309796121\n",
      "----------Precision Score----------\n",
      "0.5504720406681191\n",
      "----------Recall Score----------\n",
      "0.5090664875755541\n"
     ]
    }
   ],
   "source": [
    "predict_y = dt_c5.predict(test_x)\n",
    "scores = cross_val_score(dt_c5, x, y, cv=10)\n",
    "print('='*10 + \"C5\" + '='*10)\n",
    "print('-'*10 + \"Training Accuracy\" + '-'*10)\n",
    "print('%0.4f' % dt_c5.score(train_x, train_y))\n",
    "print('-'*10 + \"Test Accuracy\" + '-'*10)\n",
    "print(' %0.9f' % dt_c5.score(test_x, test_y))\n",
    "print('-'*10 + \"10-fold Cross Validatoin Accuracy\" + '-'*10)\n",
    "print('%0.4f' % (scores.mean()))\n",
    "print('-'*10 + \"Confusion Matrix\" + '-'*10)\n",
    "print(metrics.confusion_matrix(test_y, predict_y))\n",
    "print('-'*10 + \"Classification Report\" + '-'*10)\n",
    "print(metrics.classification_report(test_y, predict_y))\n",
    "print('-'*10 + \"Accuracy Score\" + '-'*10)\n",
    "print(metrics.accuracy_score(test_y, predict_y))\n",
    "print('-'*10 + \"Precision Score\" + '-'*10)\n",
    "print(metrics.precision_score(test_y, predict_y))\n",
    "print('-'*10 + \"Recall Score\" + '-'*10)\n",
    "print(metrics.recall_score(test_y, predict_y))"
   ]
  },
  {
   "cell_type": "code",
   "execution_count": 20,
   "id": "9d2271c8",
   "metadata": {},
   "outputs": [
    {
     "data": {
      "text/plain": [
       "'\\n# Decision tree base on C45\\n'"
      ]
     },
     "execution_count": 20,
     "metadata": {},
     "output_type": "execute_result"
    }
   ],
   "source": [
    "\"\"\"\n",
    "# Decision tree base on C45\n",
    "\"\"\""
   ]
  },
  {
   "cell_type": "code",
   "execution_count": 21,
   "id": "aa492a07",
   "metadata": {},
   "outputs": [
    {
     "data": {
      "text/html": [
       "<style>#sk-container-id-1 {color: black;}#sk-container-id-1 pre{padding: 0;}#sk-container-id-1 div.sk-toggleable {background-color: white;}#sk-container-id-1 label.sk-toggleable__label {cursor: pointer;display: block;width: 100%;margin-bottom: 0;padding: 0.3em;box-sizing: border-box;text-align: center;}#sk-container-id-1 label.sk-toggleable__label-arrow:before {content: \"▸\";float: left;margin-right: 0.25em;color: #696969;}#sk-container-id-1 label.sk-toggleable__label-arrow:hover:before {color: black;}#sk-container-id-1 div.sk-estimator:hover label.sk-toggleable__label-arrow:before {color: black;}#sk-container-id-1 div.sk-toggleable__content {max-height: 0;max-width: 0;overflow: hidden;text-align: left;background-color: #f0f8ff;}#sk-container-id-1 div.sk-toggleable__content pre {margin: 0.2em;color: black;border-radius: 0.25em;background-color: #f0f8ff;}#sk-container-id-1 input.sk-toggleable__control:checked~div.sk-toggleable__content {max-height: 200px;max-width: 100%;overflow: auto;}#sk-container-id-1 input.sk-toggleable__control:checked~label.sk-toggleable__label-arrow:before {content: \"▾\";}#sk-container-id-1 div.sk-estimator input.sk-toggleable__control:checked~label.sk-toggleable__label {background-color: #d4ebff;}#sk-container-id-1 div.sk-label input.sk-toggleable__control:checked~label.sk-toggleable__label {background-color: #d4ebff;}#sk-container-id-1 input.sk-hidden--visually {border: 0;clip: rect(1px 1px 1px 1px);clip: rect(1px, 1px, 1px, 1px);height: 1px;margin: -1px;overflow: hidden;padding: 0;position: absolute;width: 1px;}#sk-container-id-1 div.sk-estimator {font-family: monospace;background-color: #f0f8ff;border: 1px dotted black;border-radius: 0.25em;box-sizing: border-box;margin-bottom: 0.5em;}#sk-container-id-1 div.sk-estimator:hover {background-color: #d4ebff;}#sk-container-id-1 div.sk-parallel-item::after {content: \"\";width: 100%;border-bottom: 1px solid gray;flex-grow: 1;}#sk-container-id-1 div.sk-label:hover label.sk-toggleable__label {background-color: #d4ebff;}#sk-container-id-1 div.sk-serial::before {content: \"\";position: absolute;border-left: 1px solid gray;box-sizing: border-box;top: 0;bottom: 0;left: 50%;z-index: 0;}#sk-container-id-1 div.sk-serial {display: flex;flex-direction: column;align-items: center;background-color: white;padding-right: 0.2em;padding-left: 0.2em;position: relative;}#sk-container-id-1 div.sk-item {position: relative;z-index: 1;}#sk-container-id-1 div.sk-parallel {display: flex;align-items: stretch;justify-content: center;background-color: white;position: relative;}#sk-container-id-1 div.sk-item::before, #sk-container-id-1 div.sk-parallel-item::before {content: \"\";position: absolute;border-left: 1px solid gray;box-sizing: border-box;top: 0;bottom: 0;left: 50%;z-index: -1;}#sk-container-id-1 div.sk-parallel-item {display: flex;flex-direction: column;z-index: 1;position: relative;background-color: white;}#sk-container-id-1 div.sk-parallel-item:first-child::after {align-self: flex-end;width: 50%;}#sk-container-id-1 div.sk-parallel-item:last-child::after {align-self: flex-start;width: 50%;}#sk-container-id-1 div.sk-parallel-item:only-child::after {width: 0;}#sk-container-id-1 div.sk-dashed-wrapped {border: 1px dashed gray;margin: 0 0.4em 0.5em 0.4em;box-sizing: border-box;padding-bottom: 0.4em;background-color: white;}#sk-container-id-1 div.sk-label label {font-family: monospace;font-weight: bold;display: inline-block;line-height: 1.2em;}#sk-container-id-1 div.sk-label-container {text-align: center;}#sk-container-id-1 div.sk-container {/* jupyter's `normalize.less` sets `[hidden] { display: none; }` but bootstrap.min.css set `[hidden] { display: none !important; }` so we also need the `!important` here to be able to override the default hidden behavior on the sphinx rendered scikit-learn.org. See: https://github.com/scikit-learn/scikit-learn/issues/21755 */display: inline-block !important;position: relative;}#sk-container-id-1 div.sk-text-repr-fallback {display: none;}</style><div id=\"sk-container-id-1\" class=\"sk-top-container\"><div class=\"sk-text-repr-fallback\"><pre>C45(attrNames=[&#x27;attr0&#x27;, &#x27;attr1&#x27;, &#x27;attr2&#x27;, &#x27;attr3&#x27;, &#x27;attr4&#x27;, &#x27;attr5&#x27;, &#x27;attr6&#x27;,\n",
       "               &#x27;attr7&#x27;, &#x27;attr8&#x27;, &#x27;attr9&#x27;, &#x27;attr10&#x27;, &#x27;attr11&#x27;, &#x27;attr12&#x27;,\n",
       "               &#x27;attr13&#x27;, &#x27;attr14&#x27;, &#x27;attr15&#x27;, &#x27;attr16&#x27;, &#x27;attr17&#x27;, &#x27;attr18&#x27;,\n",
       "               &#x27;attr19&#x27;, &#x27;attr20&#x27;, &#x27;attr21&#x27;, &#x27;attr22&#x27;, &#x27;attr23&#x27;, &#x27;attr24&#x27;,\n",
       "               &#x27;attr25&#x27;, &#x27;attr26&#x27;, &#x27;attr27&#x27;, &#x27;attr28&#x27;, &#x27;attr29&#x27;, ...])</pre><b>In a Jupyter environment, please rerun this cell to show the HTML representation or trust the notebook. <br />On GitHub, the HTML representation is unable to render, please try loading this page with nbviewer.org.</b></div><div class=\"sk-container\" hidden><div class=\"sk-item\"><div class=\"sk-estimator sk-toggleable\"><input class=\"sk-toggleable__control sk-hidden--visually\" id=\"sk-estimator-id-1\" type=\"checkbox\" checked><label for=\"sk-estimator-id-1\" class=\"sk-toggleable__label sk-toggleable__label-arrow\">C45</label><div class=\"sk-toggleable__content\"><pre>C45(attrNames=[&#x27;attr0&#x27;, &#x27;attr1&#x27;, &#x27;attr2&#x27;, &#x27;attr3&#x27;, &#x27;attr4&#x27;, &#x27;attr5&#x27;, &#x27;attr6&#x27;,\n",
       "               &#x27;attr7&#x27;, &#x27;attr8&#x27;, &#x27;attr9&#x27;, &#x27;attr10&#x27;, &#x27;attr11&#x27;, &#x27;attr12&#x27;,\n",
       "               &#x27;attr13&#x27;, &#x27;attr14&#x27;, &#x27;attr15&#x27;, &#x27;attr16&#x27;, &#x27;attr17&#x27;, &#x27;attr18&#x27;,\n",
       "               &#x27;attr19&#x27;, &#x27;attr20&#x27;, &#x27;attr21&#x27;, &#x27;attr22&#x27;, &#x27;attr23&#x27;, &#x27;attr24&#x27;,\n",
       "               &#x27;attr25&#x27;, &#x27;attr26&#x27;, &#x27;attr27&#x27;, &#x27;attr28&#x27;, &#x27;attr29&#x27;, ...])</pre></div></div></div></div></div>"
      ],
      "text/plain": [
       "C45(attrNames=['attr0', 'attr1', 'attr2', 'attr3', 'attr4', 'attr5', 'attr6',\n",
       "               'attr7', 'attr8', 'attr9', 'attr10', 'attr11', 'attr12',\n",
       "               'attr13', 'attr14', 'attr15', 'attr16', 'attr17', 'attr18',\n",
       "               'attr19', 'attr20', 'attr21', 'attr22', 'attr23', 'attr24',\n",
       "               'attr25', 'attr26', 'attr27', 'attr28', 'attr29', ...])"
      ]
     },
     "execution_count": 21,
     "metadata": {},
     "output_type": "execute_result"
    }
   ],
   "source": [
    "from c45 import C45\n",
    "dt_c45 = C45()\n",
    "dt_c45.fit(train_x, train_y)"
   ]
  },
  {
   "cell_type": "code",
   "execution_count": 51,
   "id": "286fce70",
   "metadata": {},
   "outputs": [
    {
     "name": "stdout",
     "output_type": "stream",
     "text": [
      "==========C45==========\n",
      "----------Training Accuracy----------\n",
      "0.9661\n",
      "----------Test Accuracy----------\n",
      " 0.781369136\n",
      "----------Confusion Matrix----------\n",
      "[[3919  625]\n",
      " [ 694  795]]\n",
      "----------Classification Report----------\n",
      "              precision    recall  f1-score   support\n",
      "\n",
      "           0       0.85      0.86      0.86      4544\n",
      "           1       0.56      0.53      0.55      1489\n",
      "\n",
      "    accuracy                           0.78      6033\n",
      "   macro avg       0.70      0.70      0.70      6033\n",
      "weighted avg       0.78      0.78      0.78      6033\n",
      "\n",
      "----------Accuracy Score----------\n",
      "0.7813691364163766\n",
      "----------Precision Score----------\n",
      "0.5598591549295775\n",
      "----------Recall Score----------\n",
      "0.5339153794492948\n"
     ]
    }
   ],
   "source": [
    "predict_y = dt_c45.predict(test_x)\n",
    "\n",
    "print('='*10 + \"C45\" + '='*10)\n",
    "print('-'*10 + \"Training Accuracy\" + '-'*10)\n",
    "print('%0.4f' % dt_c45.score(train_x, train_y))\n",
    "print('-'*10 + \"Test Accuracy\" + '-'*10)\n",
    "print(' %0.9f' % dt_c45.score(test_x, test_y))\n",
    "\n",
    "print('-'*10 + \"Confusion Matrix\" + '-'*10)\n",
    "print(metrics.confusion_matrix(test_y, predict_y))\n",
    "print('-'*10 + \"Classification Report\" + '-'*10)\n",
    "print(metrics.classification_report(test_y, predict_y))\n",
    "print('-'*10 + \"Accuracy Score\" + '-'*10)\n",
    "print(metrics.accuracy_score(test_y, predict_y))\n",
    "print('-'*10 + \"Precision Score\" + '-'*10)\n",
    "print(metrics.precision_score(test_y, predict_y))\n",
    "print('-'*10 + \"Recall Score\" + '-'*10)\n",
    "print(metrics.recall_score(test_y, predict_y))"
   ]
  },
  {
   "cell_type": "code",
   "execution_count": 23,
   "id": "0514a3c2",
   "metadata": {},
   "outputs": [
    {
     "name": "stdout",
     "output_type": "stream",
     "text": [
      "Defaulting to user installation because normal site-packages is not writeable\n",
      "Requirement already satisfied: chefboost in c:\\users\\ken\\appdata\\roaming\\python\\python311\\site-packages (0.0.17)\n",
      "Requirement already satisfied: pandas>=0.22.0 in c:\\users\\ken\\appdata\\roaming\\python\\python311\\site-packages (from chefboost) (2.1.1)\n",
      "Requirement already satisfied: numpy>=1.14.0 in c:\\users\\ken\\appdata\\roaming\\python\\python311\\site-packages (from chefboost) (1.26.0)\n",
      "Requirement already satisfied: tqdm>=4.30.0 in c:\\users\\ken\\appdata\\roaming\\python\\python311\\site-packages (from chefboost) (4.66.1)\n",
      "Requirement already satisfied: psutil>=5.4.3 in c:\\users\\ken\\appdata\\roaming\\python\\python311\\site-packages (from chefboost) (5.9.5)\n",
      "Requirement already satisfied: python-dateutil>=2.8.2 in c:\\users\\ken\\appdata\\roaming\\python\\python311\\site-packages (from pandas>=0.22.0->chefboost) (2.8.2)\n",
      "Requirement already satisfied: pytz>=2020.1 in c:\\users\\ken\\appdata\\roaming\\python\\python311\\site-packages (from pandas>=0.22.0->chefboost) (2023.3.post1)\n",
      "Requirement already satisfied: tzdata>=2022.1 in c:\\users\\ken\\appdata\\roaming\\python\\python311\\site-packages (from pandas>=0.22.0->chefboost) (2023.3)\n",
      "Requirement already satisfied: colorama in c:\\users\\ken\\appdata\\roaming\\python\\python311\\site-packages (from tqdm>=4.30.0->chefboost) (0.4.6)\n",
      "Requirement already satisfied: six>=1.5 in c:\\users\\ken\\appdata\\roaming\\python\\python311\\site-packages (from python-dateutil>=2.8.2->pandas>=0.22.0->chefboost) (1.16.0)\n",
      "Note: you may need to restart the kernel to use updated packages.\n"
     ]
    },
    {
     "name": "stderr",
     "output_type": "stream",
     "text": [
      "\n",
      "[notice] A new release of pip is available: 23.1.2 -> 23.3\n",
      "[notice] To update, run: python.exe -m pip install --upgrade pip\n"
     ]
    }
   ],
   "source": [
    "pip install chefboost"
   ]
  },
  {
   "cell_type": "code",
   "execution_count": 24,
   "id": "ac760a0a",
   "metadata": {},
   "outputs": [
    {
     "data": {
      "text/plain": [
       "'\\n# Decision tree base on ID3\\n'"
      ]
     },
     "execution_count": 24,
     "metadata": {},
     "output_type": "execute_result"
    }
   ],
   "source": [
    "\"\"\"\n",
    "# Decision tree base on ID3\n",
    "\"\"\""
   ]
  },
  {
   "cell_type": "code",
   "execution_count": 25,
   "id": "2b0b4865",
   "metadata": {},
   "outputs": [],
   "source": [
    "from chefboost import Chefboost as chef"
   ]
  },
  {
   "cell_type": "code",
   "execution_count": 54,
   "id": "0626d1ae",
   "metadata": {},
   "outputs": [
    {
     "name": "stdout",
     "output_type": "stream",
     "text": [
      "==========ID3==========\n",
      "[INFO]:  8 CPU cores will be allocated in parallel running\n",
      "WARNING: You set the algorithm to  ID3  but the Decision column of your data set has non-object type.\n",
      "That's why, the algorithm is set to Regression to handle the data set.\n",
      "Regression  tree is going to be built...\n",
      "-------------------------\n",
      "finished in  5549.62140583992  seconds\n",
      "-------------------------\n",
      "Evaluate  train set\n",
      "-------------------------\n",
      "MAE:  0.08462635103772957\n",
      "MSE:  0.048711955440620645\n",
      "RMSE:  0.22070785088125128\n",
      "RAE:  0.4423700517136868\n",
      "RRSE:  0.5104383985427106\n",
      "Mean:  0.24892248524633645\n",
      "MAE / Mean:  33.99706979222162 %\n",
      "RMSE / Mean:  88.66529299787295 %\n"
     ]
    }
   ],
   "source": [
    "print('='*10 + \"ID3\" + '='*10)\n",
    "config = {'algorithm': 'ID3'}\n",
    "model = chef.fit(df, config = config, target_label = 'income')\n"
   ]
  },
  {
   "cell_type": "code",
   "execution_count": 27,
   "id": "c951b8e0",
   "metadata": {},
   "outputs": [],
   "source": [
    "# post pruning base on alpha\n",
    "path = dt.cost_complexity_pruning_path(train_x, train_y)\n",
    "ccp_alphas, impurities = path.ccp_alphas, path.impurities"
   ]
  },
  {
   "cell_type": "code",
   "execution_count": 28,
   "id": "892338ec",
   "metadata": {},
   "outputs": [],
   "source": [
    "ccp_alphas, impurities = path.ccp_alphas, path.impurities"
   ]
  },
  {
   "cell_type": "code",
   "execution_count": 31,
   "id": "c474d659",
   "metadata": {
    "scrolled": true
   },
   "outputs": [
    {
     "data": {
      "text/plain": [
       "Text(0.5, 1.0, 'Total Impurity vs effective alpha for training set')"
      ]
     },
     "execution_count": 31,
     "metadata": {},
     "output_type": "execute_result"
    },
    {
     "data": {
      "image/png": "[encoded data removed]",
      "text/plain": [
       "<Figure size 640x480 with 1 Axes>"
      ]
     },
     "metadata": {},
     "output_type": "display_data"
    }
   ],
   "source": [
    "fig, ax = plt.subplots()\n",
    "ax.plot(ccp_alphas[:-1], impurities[:-1], marker=\"o\", drawstyle=\"steps-post\")\n",
    "ax.set_xlabel(\"effective alpha\")\n",
    "ax.set_ylabel(\"total impurity of leaves\")\n",
    "ax.set_title(\"Total Impurity vs effective alpha for training set\")"
   ]
  },
  {
   "cell_type": "code",
   "execution_count": 33,
   "id": "5339d570",
   "metadata": {},
   "outputs": [
    {
     "name": "stdout",
     "output_type": "stream",
     "text": [
      "Number of nodes in the last tree is: 3 with ccp_alpha: 0.07342309606104891\n"
     ]
    }
   ],
   "source": [
    "clfs = []\n",
    "for ccp_alpha in ccp_alphas:\n",
    "    clf = tree.DecisionTreeClassifier(ccp_alpha=ccp_alpha)\n",
    "    clf.fit(train_x, train_y)\n",
    "    clfs.append(clf)\n",
    "print(\n",
    "    \"Number of nodes in the last tree is: {} with ccp_alpha: {}\".format(\n",
    "        clfs[-1].tree_.node_count, ccp_alphas[-1]\n",
    "    )\n",
    ")"
   ]
  },
  {
   "cell_type": "code",
   "execution_count": 34,
   "id": "eab23cc8",
   "metadata": {},
   "outputs": [
    {
     "data": {
      "image/png": "[encoded data removed]",
      "text/plain": [
       "<Figure size 640x480 with 2 Axes>"
      ]
     },
     "metadata": {},
     "output_type": "display_data"
    }
   ],
   "source": [
    "clfs = clfs[:-1]\n",
    "ccp_alphas = ccp_alphas[:-1]\n",
    "\n",
    "node_counts = [clf.tree_.node_count for clf in clfs]\n",
    "depth = [clf.tree_.max_depth for clf in clfs]\n",
    "fig, ax = plt.subplots(2, 1)\n",
    "ax[0].plot(ccp_alphas, node_counts, marker=\"o\", drawstyle=\"steps-post\")\n",
    "ax[0].set_xlabel(\"alpha\")\n",
    "ax[0].set_ylabel(\"number of nodes\")\n",
    "ax[0].set_title(\"Number of nodes vs alpha\")\n",
    "ax[1].plot(ccp_alphas, depth, marker=\"o\", drawstyle=\"steps-post\")\n",
    "ax[1].set_xlabel(\"alpha\")\n",
    "ax[1].set_ylabel(\"depth of tree\")\n",
    "ax[1].set_title(\"Depth vs alpha\")\n",
    "fig.tight_layout()"
   ]
  },
  {
   "cell_type": "code",
   "execution_count": 35,
   "id": "ec792b21",
   "metadata": {},
   "outputs": [],
   "source": [
    "# Pruning also simplifies a decision tree by removing the weakest rules. \n",
    "# The weakest link is characterized by an effective alpha, \n",
    "# where the nodes with the smallest effective alpha are pruned first.\n",
    "# test accuracy increases until we reach the optimal point(highest test accuracy score)"
   ]
  },
  {
   "cell_type": "code",
   "execution_count": 36,
   "id": "055148da",
   "metadata": {
    "scrolled": true
   },
   "outputs": [
    {
     "data": {
      "image/png": "[encoded data removed]",
      "text/plain": [
       "<Figure size 640x480 with 1 Axes>"
      ]
     },
     "metadata": {},
     "output_type": "display_data"
    }
   ],
   "source": [
    "# Methodology 1: optimal accuracy (highest test accuracy score)\n",
    "train_scores = [clf.score(train_x, train_y) for clf in clfs]\n",
    "test_scores = [clf.score(test_x, test_y) for clf in clfs]\n",
    "\n",
    "fig, ax = plt.subplots()\n",
    "ax.set_xlabel(\"alpha\")\n",
    "ax.set_ylabel(\"accuracy\")\n",
    "ax.set_title(\"Accuracy vs alpha for training and testing sets\")\n",
    "ax.plot(ccp_alphas, train_scores, marker=\"o\", label=\"train\", drawstyle=\"steps-post\")\n",
    "ax.plot(ccp_alphas, test_scores, marker=\"o\", label=\"test\", drawstyle=\"steps-post\")\n",
    "ax.legend()\n",
    "plt.show()"
   ]
  },
  {
   "cell_type": "code",
   "execution_count": 37,
   "id": "ac31b3df",
   "metadata": {},
   "outputs": [],
   "source": [
    "largest = max(test_scores)"
   ]
  },
  {
   "cell_type": "code",
   "execution_count": 38,
   "id": "69602b84",
   "metadata": {},
   "outputs": [
    {
     "name": "stdout",
     "output_type": "stream",
     "text": [
      "0.00022980683806523476\n",
      "0.0002466918441829929\n",
      "0.00024944257485409044\n",
      "0.00025259837495139516\n"
     ]
    }
   ],
   "source": [
    "for i in zip(ccp_alphas, test_scores):\n",
    "    if i[1] == largest:\n",
    "        print(i[0])"
   ]
  },
  {
   "cell_type": "code",
   "execution_count": 39,
   "id": "4b896336",
   "metadata": {
    "scrolled": true
   },
   "outputs": [
    {
     "name": "stdout",
     "output_type": "stream",
     "text": [
      "Training Accuracy: 0.8436\n",
      "Test Accuracy: 0.834079231\n"
     ]
    }
   ],
   "source": [
    "# Using best test accuracy score strategy fiting DT\n",
    "dt_cart_best_accuracy_score_strategy = tree.DecisionTreeClassifier(ccp_alpha=0.00013413858993866412)\n",
    "dt_cart_best_accuracy_score_strategy = dt_cart_best_accuracy_score_strategy.fit(train_x, train_y)\n",
    "print('Training Accuracy: %0.4f' % dt_cart_best_accuracy_score_strategy.score(train_x, train_y))\n",
    "print('Test Accuracy: %0.9f' % dt_cart_best_accuracy_score_strategy.score(test_x, test_y))"
   ]
  },
  {
   "cell_type": "code",
   "execution_count": 40,
   "id": "74e39615",
   "metadata": {},
   "outputs": [],
   "source": [
    "# Methodology 2: Reduced error pruning (REP)\n",
    "from sklearn.metrics import accuracy_score\n",
    "depths_to_try = range(1, dt.get_depth() + 1)\n",
    "validation_errors = []\n",
    "for i in depths_to_try:\n",
    "    tree2 = tree.DecisionTreeClassifier(max_depth=i)\n",
    "    tree2.fit(train_x, train_y)\n",
    "        # Predict on the validation set\n",
    "    y_pred = tree2.predict(test_x)\n",
    "    \n",
    "    # Calculate the error (in this case, accuracy)\n",
    "    error = 1 - accuracy_score(test_y, y_pred)\n",
    "    \n",
    "    # Append the error to the list\n",
    "    validation_errors.append(error)"
   ]
  },
  {
   "cell_type": "code",
   "execution_count": 41,
   "id": "ed91b5d8",
   "metadata": {},
   "outputs": [
    {
     "data": {
      "text/plain": [
       "40"
      ]
     },
     "execution_count": 41,
     "metadata": {},
     "output_type": "execute_result"
    }
   ],
   "source": [
    "dt.get_depth()"
   ]
  },
  {
   "cell_type": "code",
   "execution_count": 42,
   "id": "201abcbe",
   "metadata": {},
   "outputs": [
    {
     "name": "stdout",
     "output_type": "stream",
     "text": [
      "The best depth is 7 with an error of 0.17006464445549474\n"
     ]
    }
   ],
   "source": [
    "best_depth = depths_to_try[validation_errors.index(min(validation_errors))]\n",
    "best_error = min(validation_errors)\n",
    "\n",
    "print(f\"The best depth is {best_depth} with an error of {best_error}\")"
   ]
  },
  {
   "cell_type": "code",
   "execution_count": 43,
   "id": "7a5c2940",
   "metadata": {},
   "outputs": [
    {
     "data": {
      "image/png": "[encoded data removed]",
      "text/plain": [
       "<Figure size 640x480 with 1 Axes>"
      ]
     },
     "metadata": {},
     "output_type": "display_data"
    }
   ],
   "source": [
    "fig, ax = plt.subplots()\n",
    "ax.set_xlabel(\"depth\")\n",
    "ax.set_ylabel(\"error\")\n",
    "ax.set_title(\"Accuracy vs alpha for training and testing sets\")\n",
    "ax.plot(depths_to_try, validation_errors, marker=\"o\", label=\"train\", drawstyle=\"steps-post\")\n",
    "ax.legend()\n",
    "plt.show()"
   ]
  },
  {
   "cell_type": "code",
   "execution_count": 44,
   "id": "fb059d59",
   "metadata": {},
   "outputs": [],
   "source": [
    "# Methodology 3: Occam’s Razor\n",
    "maximum_nodes = dt.get_n_leaves()\n",
    "nodes_to_try = range(2, maximum_nodes + 1)\n",
    "validation_errors = []\n",
    "for i in nodes_to_try:\n",
    "    tree2 = tree.DecisionTreeClassifier(max_leaf_nodes=i)\n",
    "    tree2.fit(train_x, train_y)\n",
    "        # Predict on the validation set\n",
    "    y_pred = tree2.predict(test_x)\n",
    "    \n",
    "    # Calculate the error (in this case, accuracy)\n",
    "    error = 1 - accuracy_score(test_y, y_pred)\n",
    "    \n",
    "    # Append the error to the list\n",
    "    validation_errors.append(error)"
   ]
  },
  {
   "cell_type": "code",
   "execution_count": 45,
   "id": "7c52a50e",
   "metadata": {
    "scrolled": true
   },
   "outputs": [
    {
     "name": "stdout",
     "output_type": "stream",
     "text": [
      "The best nodes is 73 with an error of 0.16476048400464116\n"
     ]
    }
   ],
   "source": [
    "best_nodes = nodes_to_try[validation_errors.index(min(validation_errors))]\n",
    "best_error = min(validation_errors)\n",
    "\n",
    "print(f\"The best nodes is {best_nodes} with an error of {best_error}\")\n"
   ]
  },
  {
   "cell_type": "code",
   "execution_count": 52,
   "id": "a9986855",
   "metadata": {},
   "outputs": [
    {
     "name": "stdout",
     "output_type": "stream",
     "text": [
      "==========Best Depth Strategy==========\n",
      "----------Training Accuracy----------\n",
      "0.8322\n",
      "----------Test Accuracy----------\n",
      " 0.829935356\n",
      "----------10-fold Cross Validatoin Accuracy----------\n",
      "0.8270\n",
      "----------Confusion Matrix----------\n",
      "[[4094  450]\n",
      " [ 576  913]]\n",
      "----------Classification Report----------\n",
      "              precision    recall  f1-score   support\n",
      "\n",
      "           0       0.88      0.90      0.89      4544\n",
      "           1       0.67      0.61      0.64      1489\n",
      "\n",
      "    accuracy                           0.83      6033\n",
      "   macro avg       0.77      0.76      0.76      6033\n",
      "weighted avg       0.83      0.83      0.83      6033\n",
      "\n",
      "----------Accuracy Score----------\n",
      "0.8299353555445053\n",
      "----------Precision Score----------\n",
      "0.6698459280997799\n",
      "----------Recall Score----------\n",
      "0.61316319677636\n"
     ]
    }
   ],
   "source": [
    "dt_best_depth = tree.DecisionTreeClassifier(max_depth=best_depth)\n",
    "dt_best_depth = dt_best_depth.fit(train_x, train_y)\n",
    "predict_y = dt_best_depth.predict(test_x)\n",
    "scores = cross_val_score(dt_best_depth, x, y, cv=10)\n",
    "print('='*10 + \"Best Depth Strategy\" + '='*10)\n",
    "print('-'*10 + \"Training Accuracy\" + '-'*10)\n",
    "print('%0.4f' % dt_best_depth.score(train_x, train_y))\n",
    "print('-'*10 + \"Test Accuracy\" + '-'*10)\n",
    "print(' %0.9f' % dt_best_depth.score(test_x, test_y))\n",
    "print('-'*10 + \"10-fold Cross Validatoin Accuracy\" + '-'*10)\n",
    "print('%0.4f' % (scores.mean()))\n",
    "print('-'*10 + \"Confusion Matrix\" + '-'*10)\n",
    "print(metrics.confusion_matrix(test_y, predict_y))\n",
    "print('-'*10 + \"Classification Report\" + '-'*10)\n",
    "print(metrics.classification_report(test_y, predict_y))\n",
    "print('-'*10 + \"Accuracy Score\" + '-'*10)\n",
    "print(metrics.accuracy_score(test_y, predict_y))\n",
    "print('-'*10 + \"Precision Score\" + '-'*10)\n",
    "print(metrics.precision_score(test_y, predict_y))\n",
    "print('-'*10 + \"Recall Score\" + '-'*10)\n",
    "print(metrics.recall_score(test_y, predict_y))"
   ]
  },
  {
   "cell_type": "code",
   "execution_count": 53,
   "id": "4de6b14b",
   "metadata": {},
   "outputs": [
    {
     "name": "stdout",
     "output_type": "stream",
     "text": [
      "==========Best Nodes Strategy==========\n",
      "----------Training Accuracy----------\n",
      "0.8546\n",
      "----------Test Accuracy----------\n",
      " 0.826951765\n",
      "----------10-fold Cross Validatoin Accuracy----------\n",
      "0.8249\n",
      "----------Confusion Matrix----------\n",
      "[[4132  412]\n",
      " [ 632  857]]\n",
      "----------Classification Report----------\n",
      "              precision    recall  f1-score   support\n",
      "\n",
      "           0       0.87      0.91      0.89      4544\n",
      "           1       0.68      0.58      0.62      1489\n",
      "\n",
      "    accuracy                           0.83      6033\n",
      "   macro avg       0.77      0.74      0.75      6033\n",
      "weighted avg       0.82      0.83      0.82      6033\n",
      "\n",
      "----------Accuracy Score----------\n",
      "0.8269517652909001\n",
      "----------Precision Score----------\n",
      "0.6753349093774625\n",
      "----------Recall Score----------\n",
      "0.5755540631296172\n"
     ]
    }
   ],
   "source": [
    "dt_best_nodes = tree.DecisionTreeClassifier(min_samples_split=best_nodes)\n",
    "dt_best_nodes = dt_best_nodes.fit(train_x, train_y)\n",
    "predict_y = dt_best_nodes.predict(test_x)\n",
    "scores = cross_val_score(dt_best_nodes, x, y, cv=10)\n",
    "print('='*10 + \"Best Nodes Strategy\" + '='*10)\n",
    "print('-'*10 + \"Training Accuracy\" + '-'*10)\n",
    "print('%0.4f' % dt_best_nodes.score(train_x, train_y))\n",
    "print('-'*10 + \"Test Accuracy\" + '-'*10)\n",
    "print(' %0.9f' % dt_best_nodes.score(test_x, test_y))\n",
    "print('-'*10 + \"10-fold Cross Validatoin Accuracy\" + '-'*10)\n",
    "print('%0.4f' % (scores.mean()))\n",
    "print('-'*10 + \"Confusion Matrix\" + '-'*10)\n",
    "print(metrics.confusion_matrix(test_y, predict_y))\n",
    "print('-'*10 + \"Classification Report\" + '-'*10)\n",
    "print(metrics.classification_report(test_y, predict_y))\n",
    "print('-'*10 + \"Accuracy Score\" + '-'*10)\n",
    "print(metrics.accuracy_score(test_y, predict_y))\n",
    "print('-'*10 + \"Precision Score\" + '-'*10)\n",
    "print(metrics.precision_score(test_y, predict_y))\n",
    "print('-'*10 + \"Recall Score\" + '-'*10)\n",
    "print(metrics.recall_score(test_y, predict_y))"
   ]
  }
 ],
 "metadata": {
  "kernelspec": {
   "display_name": "Python 3 (ipykernel)",
   "language": "python",
   "name": "python3"
  },
  "language_info": {
   "codemirror_mode": {
    "name": "ipython",
    "version": 3
   },
   "file_extension": ".py",
   "mimetype": "text/x-python",
   "name": "python",
   "nbconvert_exporter": "python",
   "pygments_lexer": "ipython3",
   "version": "3.11.4"
  }
 },
 "nbformat": 4,
 "nbformat_minor": 5
}
